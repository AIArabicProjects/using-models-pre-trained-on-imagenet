{
 "cells": [
  {
   "cell_type": "markdown",
   "metadata": {},
   "source": [
    "# using models pre-trained on imagenet"
   ]
  },
  {
   "cell_type": "code",
   "execution_count": null,
   "metadata": {},
   "outputs": [],
   "source": [
    "import keras\n",
    "import numpy as np\n",
    "from keras.applications import vgg16, inception_v3, resnet50, mobilenet"
   ]
  },
  {
   "cell_type": "markdown",
   "metadata": {},
   "source": [
    "## Load VGG,  Inception_V3, ResNet50, and MobileNet models"
   ]
  },
  {
   "cell_type": "code",
   "execution_count": null,
   "metadata": {
    "scrolled": true
   },
   "outputs": [],
   "source": [
    "#Load the VGG model\n",
    "vgg_model = vgg16.VGG16(weights='imagenet')\n",
    "  \n",
    "#Load the Inception_V3 model\n",
    "inception_model= inception_v3.InceptionV3(weights='imagenet')\n",
    "  \n",
    "#Load the ResNet50 model\n",
    "resnet_model = resnet50.ResNet50(weights='imagenet')\n",
    "  \n",
    "#Load the MobileNet model\n",
    "mobilenet_model= mobilenet.MobileNet(weights='imagenet')"
   ]
  },
  {
   "cell_type": "code",
   "execution_count": null,
   "metadata": {},
   "outputs": [],
   "source": [
    "from keras.preprocessing.image import load_img\n",
    "from keras.preprocessing.image import img_to_array\n",
    "from keras.applications.imagenet_utils import decode_predictions\n",
    "import matplotlib.pyplot as plt\n",
    "%matplotlib inline\n",
    "  \n",
    "filename = 'images/cat.jpg'\n",
    "# load an image in PIL format\n",
    "original = load_img(filename, target_size=(224, 224))\n",
    "print('PIL image size',original.size)\n",
    "plt.imshow(original)\n",
    "plt.show()\n",
    "  \n",
    "# convert the PIL image to a numpy array\n",
    "# IN PIL - image is in (width, height, channel)\n",
    "# In Numpy - image is in (height, width, channel)\n",
    "numpy_image = img_to_array(original)\n",
    "plt.imshow(np.uint8(numpy_image))\n",
    "plt.show()\n",
    "print('numpy array size',numpy_image.shape)\n",
    "  \n",
    "# Convert the image / images into batch format\n",
    "# expand_dims will add an extra dimension to the data at a particular axis\n",
    "# We want the input matrix to the network to be of the form (batchsize, height, width, channels)\n",
    "# Thus we add the extra dimension to the axis 0.\n",
    "image_batch = np.expand_dims(numpy_image, axis=0)\n",
    "print('image batch size', image_batch.shape)\n",
    "plt.imshow(np.uint8(image_batch[0]))"
   ]
  },
  {
   "cell_type": "markdown",
   "metadata": {},
   "source": [
    "## Prediction using pre-trained models"
   ]
  },
  {
   "cell_type": "markdown",
   "metadata": {},
   "source": [
    "### VGG16"
   ]
  },
  {
   "cell_type": "code",
   "execution_count": null,
   "metadata": {},
   "outputs": [],
   "source": [
    "# prepare the image for the VGG model\n",
    "processed_image= vgg16.preprocess_input(image_batch.copy())\n",
    "  \n",
    "# get the predicted probabilities for each class\n",
    "predictions = vgg_model.predict(processed_image)\n",
    "# print predictions\n",
    "  \n",
    "# convert the probabilities to class labels\n",
    "# We will get top 5 predictions which is the default\n",
    "label = decode_predictions(predictions)\n",
    "print (label)"
   ]
  },
  {
   "cell_type": "markdown",
   "metadata": {},
   "source": [
    "### Inception"
   ]
  },
  {
   "cell_type": "markdown",
   "metadata": {},
   "source": [
    "Please change image size to be (299,299) to be able to use inception model"
   ]
  },
  {
   "cell_type": "code",
   "execution_count": null,
   "metadata": {},
   "outputs": [],
   "source": [
    "# prepare the image for the VGG model\n",
    "processed_image= inception_v3.preprocess_input(image_batch.copy())\n",
    "  \n",
    "# get the predicted probabilities for each class\n",
    "predictions = inception_model.predict(processed_image)\n",
    "# print predictions\n",
    "  \n",
    "# convert the probabilities to class labels\n",
    "# We will get top 5 predictions which is the default\n",
    "label = decode_predictions(predictions)\n",
    "print (label)"
   ]
  },
  {
   "cell_type": "markdown",
   "metadata": {},
   "source": [
    "### ResNet"
   ]
  },
  {
   "cell_type": "code",
   "execution_count": null,
   "metadata": {},
   "outputs": [],
   "source": [
    "# prepare the image for the VGG model\n",
    "processed_image= resnet50.preprocess_input(image_batch.copy())\n",
    "  \n",
    "# get the predicted probabilities for each class\n",
    "predictions = resnet_model.predict(processed_image)\n",
    "# print predictions\n",
    "  \n",
    "# convert the probabilities to class labels\n",
    "# We will get top 5 predictions which is the default\n",
    "label = decode_predictions(predictions)\n",
    "print (label)"
   ]
  },
  {
   "cell_type": "markdown",
   "metadata": {},
   "source": [
    "### MobileNet"
   ]
  },
  {
   "cell_type": "code",
   "execution_count": null,
   "metadata": {},
   "outputs": [],
   "source": [
    "# prepare the image for the VGG model\n",
    "processed_image= mobilenet.preprocess_input(image_batch.copy())\n",
    "  \n",
    "# get the predicted probabilities for each class\n",
    "predictions = mobilenet_model.predict(processed_image)\n",
    "# print predictions\n",
    "  \n",
    "# convert the probabilities to class labels\n",
    "# We will get top 5 predictions which is the default\n",
    "label = decode_predictions(predictions)\n",
    "print (label)"
   ]
  },
  {
   "cell_type": "code",
   "execution_count": null,
   "metadata": {},
   "outputs": [],
   "source": []
  }
 ],
 "metadata": {
  "kernelspec": {
   "display_name": "Python 3",
   "language": "python",
   "name": "python3"
  },
  "language_info": {
   "codemirror_mode": {
    "name": "ipython",
    "version": 3
   },
   "file_extension": ".py",
   "mimetype": "text/x-python",
   "name": "python",
   "nbconvert_exporter": "python",
   "pygments_lexer": "ipython3",
   "version": "3.7.3"
  }
 },
 "nbformat": 4,
 "nbformat_minor": 2
}
